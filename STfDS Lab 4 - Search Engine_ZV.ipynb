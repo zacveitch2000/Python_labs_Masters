{
 "cells": [
  {
   "cell_type": "markdown",
   "metadata": {},
   "source": [
    "# Search Engine\n",
    "\n",
    "This lab is about starting from scratch, and hence having to structure the code yourself. A specification for the program you are to implement is given below - do pay attention as misunderstandings may cost you marks! Being precise is a necessary skill for a programmer. To give an executive summary, you are to code a search engine for recipes. A data set has been provided. The search engine is to be pretty basic, returning all recipes that contain all of the provided keywords. However, the user can choose from a number of orderings depending on their food preferences, which you need to support."
   ]
  },
  {
   "cell_type": "markdown",
   "metadata": {},
   "source": [
    "## Marking and submission\n",
    "\n",
    "These lab exercises are marked, and contribute to your final grade. This lab exercise has 20 marks to earn, equivalent to 10% of your final grade.\n",
    "\n",
    "Please submit your completed workbook to the auto marker before 8th November, 20:00 GMT. The workbook you submit must be an .ipynb file, which is saved into the directory you're running Jupyter; alternatively you can download it from the menu above using `File -> Download As -> Notebook (.ipynb)`. Remember to save your work regularly (`Save and checkpoint` in the `File` menu, the icon of a floppy disk, or `Ctrl-S`). It is wise to verify it runs to completion with _Restart & Run All_ before submission.\n",
    "\n",
    "You must comply with the universities plagiarism guidelines: http://www.bath.ac.uk/library/help/infoguides/plagiarism.html"
   ]
  },
  {
   "cell_type": "markdown",
   "metadata": {},
   "source": [
    "## Specification\n",
    "\n",
    "The system must provide a function ``search``, with the following specification:\n",
    "```\n",
    "def search(query, ordering = 'normal', count = 10):\n",
    "  ...\n",
    "```\n",
    "\n",
    "It `print`s out the results of the search, subject to the following rules:\n",
    "1. It selects from the set of all recipes that contain __all__ of the words in the query (the positions/order of the words in the recipe are to be ignored).\n",
    "2. It orders them based on the provided ordering (a string, meaning defined below).\n",
    "3. It `print`s the top `count` matches only, preserving the order from best to worst. Must `print` just their title, one per line. Must be less than `count` if the search is specific enough that less than `count` recipes match.\n",
    "\n",
    "As an aside, do not worry about memory usage. If duplicating some data can make your code faster/neater then feel free.\n",
    "\n",
    "\n",
    "\n",
    "### Data set\n",
    "\n",
    "A file, `recipes.json` is provided, containing 17K recipes. It can be parsed into a Python data structure using the [`json`](https://docs.python.org/3/library/json.html) module. It is a list, where each recipe is a dictionary containing various keys:\n",
    "* `title` : Name of recipe; you can assume these are unique\n",
    "* `categories` : A list of tags assigned to the recipe\n",
    "* `ingredients` : What is in it, as a list\n",
    "* `directions` : List of steps to make the recipe\n",
    "* `rating` : A rating, out of 5, of how good it is\n",
    "* `calories` : How many calories it has\n",
    "* `protein` : How much protein is in it\n",
    "* `fat` : How much fat is in it\n",
    "\n",
    "Note that the data set was obtained via web scrapping and hence is noisy - every key except for `title` is missing from at least one recipe. Your code will need to cope with this.\n",
    "\n",
    "You will probably want to explore the data before starting, so you have an idea of what your code has to deal with.\n",
    "\n",
    "Data set came from https://www.kaggle.com/hugodarwood/epirecipes/version/2 though note it has been cleaned it up, by deleting duplicates and removing the really dodgy entries.\n",
    "\n",
    "\n",
    "\n",
    "### Search\n",
    "\n",
    "The search should check the following parts of the recipe (see data set description below):\n",
    "* `title`\n",
    "* `categories`\n",
    "* `ingredients`\n",
    "* `directions`\n",
    "\n",
    "For instance, given the query \"banana cheese\" you would expect \"Banana Layer Cake with Cream Cheese Frosting\" in the results. Note that case is to be ignored (\"banana\" matches \"Banana\") and the words __do not__ have to be next to one another, in the same order as the search query or even in the same part of the recipe (\"cheese\" could appear in the title and \"banana\" in the ingredients). However, all words in the search query __must__ appear somewhere.\n",
    "\n",
    "\n",
    "\n",
    "### Tokenisation\n",
    "\n",
    "This is the term for breaking a sentence into each individual word (token). Traditionally done using regular expressions, and Python does have the `re` module, but there is no need to do that here (`re` can be quite fiddly). For matching words your tokenisation must follow the following steps:\n",
    "1. Convert all punctuation and digits into spaces. For punctuation use the set in [`string.punctuation`](https://docs.python.org/3/library/string.html#string.punctuation), for digits [`string.digits`](https://docs.python.org/3/library/string.html#string.digits). You may find [`translate()`](https://docs.python.org/3/library/stdtypes.html#str.translate) interesting!\n",
    "2. [`split()`](https://docs.python.org/3/library/stdtypes.html#str.split) to extract individual tokens.\n",
    "3. Ignore any token that is less than $3$ characters long.\n",
    "4. Make tokens lowercase.\n",
    "\n",
    "When matching words for search (above) or ordering (below) it's only a match if you match an entire token. There are many scenarios where this simple approach will fail, but it's good enough for this exercise. The auto marker will be checking the above is followed! When doing a search the code should ignore terms in the search string that fail the above requirements.\n",
    "\n",
    "\n",
    "\n",
    "### Ordering\n",
    "\n",
    "There are three ordering modes to select from, each indicated by passing a string to the `search` function:\n",
    "* `normal` - Based simply on the number of times the search terms appear in the recipe. A score is calculated and the order is highest to lowest. The score sums the following terms (repeated words are counted multiple times, i.e. \"cheese cheese cheese\" is $3$ matches to \"cheese\"):\n",
    "    * $8 \\times$ Number of times a query word appears in the title\n",
    "    * $4 \\times$ Number of times a query word appears in the categories\n",
    "    * $2 \\times$ Number of times a query word appears in the ingredients\n",
    "    * $1 \\times$ Number of times a query word appears in the directions\n",
    "    * The `rating` of the recipe (if not available assume $0$)\n",
    "\n",
    "* `simple` - Tries to minimise the complexity of the recipe, for someone who is in a rush. Orders to minimise the number of ingredients multiplied by the numbers of steps in the directions.\n",
    "\n",
    "* `healthy` - Order from lowest to highest by this cost function:\n",
    "$$\\frac{|\\texttt{calories} - 510n|}{510} + 2\\frac{|\\texttt{protein} - 18n|}{18} + 4\\frac{|\\texttt{fat} - 150n|}{150}$$\n",
    "Where $n \\in \\mathbb{N}^+$ is selected to minimise the cost ($n$ is a positive integer and $n=0$ is not allowed). This can be understood in terms of the numbers $510$, $18$ and $150$ being a third of the recommended daily intake (three meals per day) for an average person, and $n$ being the number of whole meals the person gets out of cooking/making the recipe. So this tries to select recipes that neatly divide into a set of meals that are the right amount to consume for a healthy, balanced diet. Try not to overthink the optimisation of $n$, as it's really quite simple to do!\n",
    "\n",
    "To clarify the use of the ordering string, to get something healthy that contains cheese you might call `search('cheese', 'healthy')`. In the case of a recipe that is missing a key in its dictionary the rules are different for each search mode:\n",
    "* `normal` - Consider a missing entry in the recipe (e.g. no `ingredients` are provided) to simply mean that entry can't match any search words (because it has none!), but the item is still eligible for inclusion in the results, assuming it can match the search with a different entry.\n",
    "* `simple` - If a recipe is missing either `ingredients` or `directions` it is dropped from such a search result. Because the data is messy if either of these lists is of length $1$ it should be assumed that the list extraction has failed and the recipe is to also be dropped from the search results.\n",
    "* `healthy` - If any of `calories`, `protein` or `fat` is missing the recipe should be dropped from the result.\n",
    "\n",
    "\n",
    "\n",
    "### Extra\n",
    "\n",
    "You may find the [_inverted index_](https://en.wikipedia.org/wiki/Inverted_index) interesting. It's a data structure used by search engines. For each word a user may search for this contains a list of all documents (recipes) that contain the word. This may take a little effort to understand, but the resulting code will be both faster and neater."
   ]
  },
  {
   "cell_type": "markdown",
   "metadata": {},
   "source": [
    "## Advice\n",
    "\n",
    "* Don't just start coding: Make a plan and work out what you intend to do.\n",
    "* Think about structure, as messy code leads to mistakes.\n",
    "* Plan your data structures. Don't be afraid to use sheets of paper if that works for you!\n",
    "* Don't duplicate code, put it in a function/method instead.\n",
    "\n",
    "* Divide and conquer. Break the system into parts that can implemented with minimal dependency on the rest. Functions or OOP are both suitable for doing this.\n",
    "* Test early. Verify the individual parts work before trying to combine them. Factor this into the order you implement the parts of the system - don't implement something you are going to struggle to test before implementing, and verifying, other parts.\n",
    "* Do not try and do a 'big bang', where you get it all working at once. Instead, get it working with features missing, then add those features in, one at a time.\n",
    "\n",
    "* Keep things as simple as possible. Avoid long functions/methods.\n",
    "* Include comments, as a form of planning and for your own sanity!\n",
    "* Regularly reset the kernel and rerun the entire workbook. It is very easy to break something but not notice, because the correct version remains in memory."
   ]
  },
  {
   "cell_type": "markdown",
   "metadata": {},
   "source": [
    "## Marks\n",
    "* __20 marks__: For many different _unit tests_ that will be run on `search`. They will cover all of the details in the above specification!\n",
    "    * One test checks that it's faster than $0.1$ seconds on average (on the computer which runs the auto marker, which is quite fast) to do a search, so try not to be too inefficient (it ignores any time your notebook spends building data structures to be used by `search`). Note that the validation implementation comes in at $0.001$ seconds per search (after $5.5$ seconds of preparation), so this is very achievable!\n",
    "    * You may want to look into Python's `set()` object, as it is useful for _one_ of the possible ways to implement this.\n",
    "    * There will be sorting. The [Sorting how to](https://docs.python.org/3/howto/sorting.html) may help.\n",
    "    * The auto marker does give some feedback, and you can run it as many times as you want. Don't be afraid to test an incomplete or semi-broken version of your code if stuck or unsure. It may help!\n",
    "    * The validation implementation is 104 lines of code split over 5 cells (including white space for clarity and comments). Coded by someone who probably has much more experience than you, so you shouldn't aim to match this, but it's a good clue: If you find yourself at 500 lines you may want to stop and think some more! (line count does not include testing code, which is about the same amount again)"
   ]
  },
  {
   "cell_type": "markdown",
   "metadata": {},
   "source": [
    "# Task 1 - Load the data\n",
    "\n",
    "Work out a way to load the json file into a python data-structure"
   ]
  },
  {
   "cell_type": "code",
   "execution_count": 1,
   "metadata": {},
   "outputs": [],
   "source": [
    "import json\n",
    "import numpy as np\n",
    "import string\n",
    "import time\n",
    "import unittest"
   ]
  },
  {
   "cell_type": "code",
   "execution_count": 2,
   "metadata": {},
   "outputs": [],
   "source": [
    "with open('recipes.json') as json_file:\n",
    "    data = json.load(json_file)\n",
    "    \n"
   ]
  },
  {
   "cell_type": "code",
   "execution_count": 3,
   "metadata": {},
   "outputs": [],
   "source": [
    "\n",
    "# '''Its important to note all of the info that is now in our dictionary! \n",
    "# For each entry we have dictionaries that correspond to\n",
    "# - title[1]\n",
    "# - categories[2]\n",
    "# - ingredients[3]\n",
    "# - directions[4]\n",
    "# - ratings[5]\n",
    "# - calories[6]\n",
    "# - protein[7]\n",
    "# - fat '''[8]\n",
    "\n",
    "\n"
   ]
  },
  {
   "cell_type": "code",
   "execution_count": 4,
   "metadata": {},
   "outputs": [],
   "source": [
    "#The format right now is strange its a list of dictionaries, for ease i want to convert\n",
    "#this into a dictionary of dictionaries\n",
    "\n",
    "default = dict(title = [], categories = [], ingredients = [], directions = [], rating = 0, fat = 0, protein = 0, calories = 0)\n",
    "def make_dict(data) :\n",
    "    for key, value in default.items() :\n",
    "        if key not in data :\n",
    "            if key == 'categories' :\n",
    "                data[key] = []\n",
    "            elif key == 'ingredients' :\n",
    "                data[key] = []\n",
    "            elif key == 'directions' :\n",
    "                data[key] = []\n",
    "            elif key == 'rating' :\n",
    "                data[key] = 0\n",
    "            elif key == 'fat' :\n",
    "                data[key] = 0\n",
    "            elif key == 'protein' :\n",
    "                data[key] = 0\n",
    "            elif key == 'calories' :\n",
    "                data[key] = 0\n",
    "            else :\n",
    "                data[key] = 0\n",
    "    return data\n",
    "    "
   ]
  },
  {
   "cell_type": "markdown",
   "metadata": {},
   "source": [
    "# Tokenise the Query\n",
    "\n",
    "\n",
    "\n",
    "Tokenisation\n",
    "\n",
    "\n",
    "This is the term for breaking a sentence into each individual word (token). Traditionally done using regular expressions, and Python does have the re module, but there is no need to do that here (re can be quite fiddly). \n",
    "\n",
    "For matching words your tokenisation must follow the following steps:\n",
    "\n",
    "Convert all punctuation and digits into spaces. For punctuation use the set in string.punctuation, for digits string.digits. You may find translate() interesting!\n",
    "\n",
    "split() to extract individual tokens.\n",
    "\n",
    "Ignore any token that is less than  3\n",
    "\n",
    "Make tokens lowercase.\n",
    "\n",
    "\n",
    "\n",
    "When matching words for search (above) or ordering (below) it's only a match if you match an entire token. \n",
    "\n",
    "There are many scenarios where this simple approach will fail, but it's good enough for this exercise. The \n",
    "\n",
    "auto marker will be checking the above is followed! When doing a search the code should ignore terms in the \n",
    "search string that fail the above requirements.\n"
   ]
  },
  {
   "cell_type": "code",
   "execution_count": 5,
   "metadata": {},
   "outputs": [],
   "source": [
    "def tokenize(query):\n",
    "# '''aim of this function is to tokenise the query we are going to use to search our data with\n",
    "# input is our query, and an output is the tokenised version of this query'''\n",
    "# This only however works for string inputs, ignoring lists and other data structures!\n",
    "    a = string.punctuation\n",
    "    b = string.digits\n",
    "    punc_dict = {}\n",
    "    for punc in a :\n",
    "        punc_dict[punc] = ' '\n",
    "    \n",
    "    for digit in b :\n",
    "        punc_dict[digit] = ' '\n",
    "    \n",
    "    # Convert unwanted string punctuation into blank spaces\n",
    "    query = query.translate(query.maketrans(punc_dict))\n",
    "    \n",
    "    # convert unwanted numbers into blank spaces\n",
    "    query = query.translate(query.maketrans(punc_dict))\n",
    "    \n",
    "    # Split on the spaces and make the characters all lower case\n",
    "    tokens = query.lower().split(' ')\n",
    "    \n",
    "    \n",
    "    #Only prints out words with length more than or equal to 3\n",
    "    new_tokens = []\n",
    "    for word in tokens :\n",
    "        if len(word) >= 3 :\n",
    "            new_tokens.append(word)\n",
    "    return new_tokens"
   ]
  },
  {
   "cell_type": "code",
   "execution_count": 6,
   "metadata": {},
   "outputs": [],
   "source": [
    "def tokenize_list(list) :\n",
    "    #my tokenise function only works on single strings sentences but i want it to act on\n",
    "    #lists within a dictionaries/lists\n",
    "        tokens = []\n",
    "        for word in list :\n",
    "            tokens += tokenize(word)\n",
    "            \n",
    "        return tokens\n",
    "    \n"
   ]
  },
  {
   "cell_type": "code",
   "execution_count": 7,
   "metadata": {},
   "outputs": [],
   "source": [
    "# I wnat to tokenize the whole gaff\n",
    "#We want to go throuhg the whole database\n",
    "#turning that database into our new dictinoary form\n",
    "#for each of those forms tokenize it! We dont want to however tokenize the \n",
    "#dictionaries for rating, calories, protein, fat.... numerical quantities\n",
    "\n",
    "\n",
    "# TICK - converted whole data set into dictionary form\n",
    "# TICK - tockenised the whole gafff!!!!!!!!\n",
    "def organise(data) :\n",
    "    m = len(data)\n",
    "    recipes = []\n",
    "    for i in range(m) :\n",
    "        data[i] = make_dict(data[i])\n",
    "\n",
    "        data[i]['categories'] = tokenize_list(data[i]['categories'])\n",
    "        data[i]['length_ing'] = len(data[i]['ingredients'])\n",
    "        data[i]['length_dir'] = len(data[i]['directions'])\n",
    "        data[i]['ingredients'] = tokenize_list(data[i]['ingredients'])\n",
    "        data[i]['directions'] = tokenize_list(data[i]['directions']) \n",
    "        data[i]['index'] = i\n",
    "        \n",
    "    return data"
   ]
  },
  {
   "cell_type": "markdown",
   "metadata": {},
   "source": [
    "# Build Inverted Index\n",
    "\n",
    "i.e this is preprocessing our data. Want to collate the words that appear multiple times by a score by alterring a dictionary.\n",
    "\n",
    "I want something like this -\n",
    "{Title : {word1 : #, word2 : #.....}, {categories : {word1 : #........}\n",
    "we leave alone all quanitative values\n",
    "we have already recorded the complexity of recipes by computing the length of ingredients and directions"
   ]
  },
  {
   "cell_type": "code",
   "execution_count": 8,
   "metadata": {},
   "outputs": [],
   "source": [
    "def inverted_index(data) :\n",
    "\n",
    "    n = len(data)\n",
    "\n",
    "    new_data = []\n",
    "    for i in range(n) :\n",
    "        b = data[i]\n",
    "        inverse_dict = {}\n",
    "        for key in b :\n",
    "            inverse_dict['new_title'] = b['title']\n",
    "            if key == 'title' :\n",
    "                for word in tokenize(b[key]) :\n",
    "\n",
    "                    if word not in inverse_dict :\n",
    "                        inverse_dict[word] = 8\n",
    "                    else :\n",
    "                        inverse_dict[word] += 8\n",
    "            elif key == 'categories' :\n",
    "                for word in b[key] :\n",
    "                    if word not in inverse_dict :\n",
    "                        inverse_dict[word] = 4\n",
    "                    else :\n",
    "                        inverse_dict[word] += 4\n",
    "            elif key == 'ingredients' :\n",
    "                for word in b[key] :\n",
    "                    if word not in inverse_dict :\n",
    "                        inverse_dict[word] = 2\n",
    "                    else :\n",
    "                        inverse_dict[word] += 2\n",
    "            elif key == 'directions' :\n",
    "                for word in b[key] :\n",
    "                    if word not in inverse_dict :\n",
    "                        inverse_dict[word] = 1\n",
    "                    else :\n",
    "                        inverse_dict[word] += 1\n",
    "            else :\n",
    "                inverse_dict[key] = b[key]\n",
    "        new_data.append(inverse_dict)\n",
    "    return new_data\n",
    "            \n",
    "                "
   ]
  },
  {
   "cell_type": "markdown",
   "metadata": {},
   "source": [
    "# Ordering"
   ]
  },
  {
   "cell_type": "markdown",
   "metadata": {},
   "source": [
    "## Normal Search\n",
    "\n",
    "Orders depending on where the feature is found whether its title ingredietns.... and weights it accordingly!\n"
   ]
  },
  {
   "cell_type": "code",
   "execution_count": 9,
   "metadata": {},
   "outputs": [],
   "source": [
    "def normal(query, lst) :\n",
    "# '''takes in our query already tokenised and takes in a list of indices of our recipes\n",
    "# our goal is to take this and to sort them according to their weights of which I included before'''\n",
    "    before_sort_dict = {}\n",
    "    #sorted dict is going to be a dict with this idndexing {'index' : 'score'}\n",
    "    for i in lst :\n",
    "        a = 0\n",
    "        a += new_data[i]['rating'] \n",
    "        for word in query :\n",
    "            a += new_data[i][word]\n",
    "        before_sort_dict[i] = a\n",
    "    sorted_dict = {k: v for k, v in sorted(before_sort_dict.items(), key=lambda item: item[1], reverse=True)}         \n",
    "    return sorted_dict"
   ]
  },
  {
   "cell_type": "markdown",
   "metadata": {},
   "source": [
    "## Simple Search"
   ]
  },
  {
   "cell_type": "markdown",
   "metadata": {},
   "source": [
    "Aimed at people who in a rush and want to minimise directions and number of ingredients\n",
    "\n",
    "\n",
    "If a recipe is missing either ingredients or directions it is dropped from such a search result. Because the data is messy if either of these lists is of length  1 it should be assumed that the list extraction has failed and the recipe is to also be dropped from the search results."
   ]
  },
  {
   "cell_type": "code",
   "execution_count": 10,
   "metadata": {},
   "outputs": [],
   "source": [
    "def simple(lst) :\n",
    "# Again takes a list of matches nd aims to sort them depending on this simple weighting system!\n",
    "    before_sort_dict = {}\n",
    "    \n",
    "    for i in lst :\n",
    "        if new_data[i]['length_ing'] == 1 :\n",
    "            continue\n",
    "        elif new_data[i]['length_ing'] == 0 :\n",
    "            continue\n",
    "        elif new_data[i]['length_dir'] == 1 :\n",
    "            continue\n",
    "        elif new_data[i]['length_dir'] == 0 :\n",
    "            continue\n",
    "        else :\n",
    "            score = new_data[i]['length_dir'] * new_data[i]['length_ing']\n",
    "            before_sort_dict[i] = score\n",
    "    sorted_dict = {k: v for k, v in sorted(before_sort_dict.items(), key=lambda item: item[1])}         \n",
    "    return sorted_dict\n",
    "\n",
    "            \n",
    "\n"
   ]
  },
  {
   "cell_type": "markdown",
   "metadata": {},
   "source": [
    "## Healthy Search"
   ]
  },
  {
   "cell_type": "code",
   "execution_count": 11,
   "metadata": {},
   "outputs": [],
   "source": [
    "def healthy(lst) :\n",
    "    \n",
    "    before_sort_dict = {}\n",
    "    \n",
    "    for i in lst :\n",
    "        if new_data[i]['calories'] == 0 :\n",
    "            continue\n",
    "        elif new_data[i]['protein'] == 0 :\n",
    "            continue\n",
    "        elif new_data[i]['fat'] == 0 :\n",
    "            continue\n",
    "        else :\n",
    "  \n",
    "            cal = new_data[i]['calories']\n",
    "            pro = new_data[i]['protein']\n",
    "            fat = new_data[i]['fat']\n",
    "            a = float(1/510)\n",
    "            b = float(2/18)\n",
    "            c = float(4/150)\n",
    "            score = (a*np.absolute(cal - 510)) + (b * np.absolute(pro - 18)) + (c * np.absolute(fat - 150))\n",
    "            before_sort_dict[i] = score\n",
    "\n",
    "\n",
    "    sorted_dict = {k: v for k, v in sorted(before_sort_dict.items(), key=lambda item: item[1])} \n",
    "    return sorted_dict\n",
    "        "
   ]
  },
  {
   "cell_type": "code",
   "execution_count": 12,
   "metadata": {},
   "outputs": [],
   "source": [
    "def print_recipes(sorted_dict, count) :\n",
    "    final_list = []\n",
    "    for key in sorted_dict :\n",
    "        final_list.append(new_data[key]['new_title'])\n",
    "        \n",
    "    print(*final_list[:count], sep='\\n')"
   ]
  },
  {
   "cell_type": "markdown",
   "metadata": {},
   "source": [
    "# Lets Search\n",
    "\n",
    "I want to just create a basic search function that works through our recipe data structure and creates a list of all the recipes of interest\n",
    "from there I will apply the sorting methods to catch the ones of interest"
   ]
  },
  {
   "cell_type": "code",
   "execution_count": null,
   "metadata": {},
   "outputs": [],
   "source": []
  },
  {
   "cell_type": "markdown",
   "metadata": {},
   "source": [
    "There are three ordering modes to select from, each indicated by passing a string to the search function:"
   ]
  },
  {
   "cell_type": "code",
   "execution_count": 13,
   "metadata": {},
   "outputs": [],
   "source": [
    "data = organise(data)\n",
    "new_data = inverted_index(data)\n",
    "\n",
    "def search(query, ordering = 'normal', count = 10) :\n",
    "    query = tokenize(query) \n",
    "    recipe_list = []\n",
    "    recipe_index = []\n",
    "    for i in range(len(new_data)) :\n",
    "        if all(v in new_data[i] for v in query) :\n",
    "            recipe_list.append(new_data[i]['new_title'])\n",
    "            recipe_index.append(new_data[i]['index'])\n",
    "            \n",
    "            \n",
    "    if ordering == 'normal' :\n",
    "        a = normal(query, recipe_index)\n",
    "#         print(*recipe_list, sep = '\\n')\n",
    "        print_recipes(a, count)\n",
    "        \n",
    "    elif ordering == 'simple' :\n",
    "        a = simple(recipe_index)\n",
    "        print_recipes(a,count)\n",
    "        \n",
    "\n",
    "    elif ordering == 'healthy' :\n",
    "        a = healthy(recipe_index)\n",
    "        print_recipes(a,count)      "
   ]
  },
  {
   "cell_type": "code",
   "execution_count": 14,
   "metadata": {},
   "outputs": [
    {
     "name": "stdout",
     "output_type": "stream",
     "text": [
      "Scallion Potato Pancake and Smoked-Salmon Sandwiches \n",
      "Buttermilk Cornmeal Pancakes \n",
      "Shrimp and Green Onion Pancakes \n",
      "Fresh Corn Pancakes \n",
      "Orange Chocolate Chip Pancakes \n"
     ]
    }
   ],
   "source": [
    "search('pancakes', 'healthy', 5)"
   ]
  },
  {
   "cell_type": "code",
   "execution_count": 15,
   "metadata": {},
   "outputs": [
    {
     "name": "stdout",
     "output_type": "stream",
     "text": [
      "Chocolate Cake with Milk Chocolate-Peanut Butter Frosting and Peanut Butter Brittle \n",
      "Peanut Butter Tart with Caramel-Peanut Glaze \n",
      "Peanut Butter Cake with Chocolate-Peanut Butter Icing \n",
      "Peanut Butter Banana Cream Pie \n",
      "Banana Cupcakes with Peanut Butter Frosting \n",
      "Chocolate-Peanut Butter Cake with Cream Cheese and Butterfinger Frosting \n",
      "Peanut Butter Cheesecake with Peanut Brittle \n"
     ]
    }
   ],
   "source": [
    "search('peanut butter', 'normal', 7)"
   ]
  },
  {
   "cell_type": "code",
   "execution_count": 16,
   "metadata": {},
   "outputs": [
    {
     "name": "stdout",
     "output_type": "stream",
     "text": [
      "Lemon-Honey Almond Cake \n",
      "Chocolate, Orange and Honey Cake \n",
      "Pear Cake with Lemon-Honey Cream Cheese Frosting \n",
      "Lemon Buttermilk Cake \n"
     ]
    }
   ],
   "source": [
    "search('lemon honey cake', 'normal', 4)"
   ]
  },
  {
   "cell_type": "code",
   "execution_count": 17,
   "metadata": {},
   "outputs": [
    {
     "name": "stdout",
     "output_type": "stream",
     "text": [
      "Simplest Chocolate Honey Mousse \n"
     ]
    }
   ],
   "source": [
    "search('mousse', 'simple', 1)"
   ]
  },
  {
   "cell_type": "code",
   "execution_count": 18,
   "metadata": {},
   "outputs": [
    {
     "name": "stdout",
     "output_type": "stream",
     "text": [
      "Tiny Baked Potatoes with Chervil Cream \n",
      "Baked Whole Fish with Potatoes and Lemon \n",
      "Twice-Baked Potatoes with Basil and Sour Cream \n"
     ]
    }
   ],
   "source": [
    "search('baked potato', 'simple', 3)"
   ]
  },
  {
   "cell_type": "code",
   "execution_count": 19,
   "metadata": {},
   "outputs": [
    {
     "name": "stdout",
     "output_type": "stream",
     "text": [
      "Corn and Bacon Pie \n",
      "Spinach, Red Pepper, and Feta Quiche \n",
      "Zucchini, Sun-Dried Tomato, and Mozarella Tart \n",
      "Flaky Pie Crust Dough \n",
      "Chocolate Mousse Pie \n",
      "Bacon and Green Chili Quiche \n",
      "Yellow Squash and Mozzarella Quiche with Fresh Thyme \n",
      "Scallop and Shrimp Fritters with Chipotle Mayonnaise \n",
      "Butter Pie Crust \n",
      "Challah, Sausage, and Dried Cherry Stuffing \n",
      "Frozen Peanut Butter Pie with Candied Bacon \n",
      "Butter Pie Crust Dough \n",
      "Warm Goat Cheese Salad with Pears and Walnuts \n",
      "Kale, Butternut Squash, and Pancetta Pie \n",
      "Asparagus Tart \n",
      "Flaky Pie Crust \n",
      "Caramelized Garlic, Spinach, and Cheddar Tart \n",
      "Pear and Almond Tart \n",
      "Bacon and Potato Pie \n",
      "Sweet Cheese Pie \n",
      "0.041416168212890625\n"
     ]
    }
   ],
   "source": [
    "start= time.time()\n",
    "search('pie', 'healthy', 20)\n",
    "\n",
    "end = time.time()\n",
    "print(end - start)"
   ]
  },
  {
   "cell_type": "code",
   "execution_count": 20,
   "metadata": {},
   "outputs": [
    {
     "name": "stdout",
     "output_type": "stream",
     "text": [
      "Iceberg with Tomatoes, Blue Cheese, and Bacon \n",
      "Bacon and Blue Cheese Salad with Caesar Dressing \n",
      "Blue Cheese Caesar Salad \n",
      "Salad Bar Cobb \n",
      "Roast Beef Salad with Cabbage and Horseradish \n",
      "Irish Pub Salad \n",
      "Curly Endive Salad with Cranberry-Bacon Vinaigrette and Blue Cheese Pastries \n",
      "Heirloom Tomato Salad with Blue Cheese \n",
      "Vegetable and Wild Rice Salad \n",
      "Beefsteak Tomato, Butterhead Lettuce, and Bacon with Blue Cheese Dressing \n"
     ]
    }
   ],
   "source": [
    "search('blue cheese salad', 'healthy', 10)"
   ]
  },
  {
   "cell_type": "code",
   "execution_count": 21,
   "metadata": {},
   "outputs": [
    {
     "name": "stdout",
     "output_type": "stream",
     "text": [
      "\n"
     ]
    }
   ],
   "source": [
    "search('tempura fish', 'healthy', 10)"
   ]
  },
  {
   "cell_type": "code",
   "execution_count": 22,
   "metadata": {},
   "outputs": [
    {
     "name": "stdout",
     "output_type": "stream",
     "text": [
      "Spinach and Leek Gratin with Roquefort Crumb Topping \n",
      "Cream of Cauliflower and Stilton Soup \n",
      "Veal with Leek and Roquefort Sauce \n"
     ]
    }
   ],
   "source": [
    "search('leek blue cheese cream cheese', 'healthy', 3)"
   ]
  },
  {
   "cell_type": "code",
   "execution_count": 23,
   "metadata": {},
   "outputs": [
    {
     "name": "stdout",
     "output_type": "stream",
     "text": [
      "Red Curry Peanut Sauce \n",
      "Shrimp Curry with Yu Choy and Kabocha Squash \n",
      "Shrimp Curry \n"
     ]
    }
   ],
   "source": [
    "search('curry, vegetable', 'healthy', 3)"
   ]
  },
  {
   "cell_type": "code",
   "execution_count": 26,
   "metadata": {},
   "outputs": [
    {
     "name": "stdout",
     "output_type": "stream",
     "text": [
      "Seafood and Turkey-Sausage Gumbo \n",
      "Steak House Creamed Spinach \n",
      "Calzones with Cheese, Sausage and Roasted Red Pepper \n",
      "Chicken with Parsley and Thyme Stuffing and Roasted Potatoes \n",
      "Lentil Ravioli with Sausage and Yellow Tomato Sauce \n",
      "Double-Crusted Turkey Sausage Pizza \n",
      "Golden Crisp Daikon Cake with Spicy Herb Soy Sauce \n",
      "Spicy Gumbo-Laya \n",
      "Chorizo, Poblano and Yam Fajitas with Lime-Marinated Red Onions \n",
      "Mixed-Greens and Sausage Soup with Cornmeal Dumplings \n"
     ]
    }
   ],
   "source": [
    "search('sausages, flour')"
   ]
  }
 ],
 "metadata": {
  "kernelspec": {
   "display_name": "Python 3",
   "language": "python",
   "name": "python3"
  },
  "language_info": {
   "codemirror_mode": {
    "name": "ipython",
    "version": 3
   },
   "file_extension": ".py",
   "mimetype": "text/x-python",
   "name": "python",
   "nbconvert_exporter": "python",
   "pygments_lexer": "ipython3",
   "version": "3.8.3"
  }
 },
 "nbformat": 4,
 "nbformat_minor": 2
}
